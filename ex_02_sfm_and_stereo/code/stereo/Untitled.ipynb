{
 "cells": [
  {
   "cell_type": "code",
   "execution_count": 1,
   "id": "31441648",
   "metadata": {},
   "outputs": [
    {
     "name": "stdout",
     "output_type": "stream",
     "text": [
      "[ 4 13 22]\n"
     ]
    }
   ],
   "source": [
    "import numpy as np\n",
    "import torch\n",
    "from scipy.signal import convolve\n",
    "\n",
    "# 创建两个简单的信号\n",
    "signal1 = np.array([1, 2, 3])\n",
    "signal2 = np.array([4, 5])\n",
    "\n",
    "# 执行卷积\n",
    "result = convolve(signal1, signal2,mode = 'same')\n",
    "\n",
    "print(result)"
   ]
  },
  {
   "cell_type": "code",
   "execution_count": 1,
   "id": "aba8d20d",
   "metadata": {},
   "outputs": [],
   "source": [
    "max_disparity=50"
   ]
  },
  {
   "cell_type": "code",
   "execution_count": 4,
   "id": "394cb889",
   "metadata": {},
   "outputs": [],
   "source": [
    "cost = np.ones(max_disparity+1)"
   ]
  },
  {
   "cell_type": "code",
   "execution_count": 5,
   "id": "2f459daa",
   "metadata": {},
   "outputs": [
    {
     "data": {
      "text/plain": [
       "array([1., 1., 1., 1., 1., 1., 1., 1., 1., 1., 1., 1., 1., 1., 1., 1., 1.,\n",
       "       1., 1., 1., 1., 1., 1., 1., 1., 1., 1., 1., 1., 1., 1., 1., 1., 1.,\n",
       "       1., 1., 1., 1., 1., 1., 1., 1., 1., 1., 1., 1., 1., 1., 1., 1., 1.])"
      ]
     },
     "execution_count": 5,
     "metadata": {},
     "output_type": "execute_result"
    }
   ],
   "source": [
    "cost"
   ]
  },
  {
   "cell_type": "code",
   "execution_count": 6,
   "id": "4dd5ec8a",
   "metadata": {},
   "outputs": [
    {
     "data": {
      "text/plain": [
       "array([1., 1.])"
      ]
     },
     "execution_count": 6,
     "metadata": {},
     "output_type": "execute_result"
    }
   ],
   "source": [
    "cost[0:2]"
   ]
  },
  {
   "cell_type": "code",
   "execution_count": 7,
   "id": "7bf2529a",
   "metadata": {},
   "outputs": [],
   "source": [
    " label = torch.eye(2).cuda()[[1]*len([1,2,3,1,5])]"
   ]
  },
  {
   "cell_type": "code",
   "execution_count": 8,
   "id": "97e45678",
   "metadata": {},
   "outputs": [
    {
     "data": {
      "text/plain": [
       "tensor([[0., 1.],\n",
       "        [0., 1.],\n",
       "        [0., 1.],\n",
       "        [0., 1.],\n",
       "        [0., 1.]], device='cuda:0')"
      ]
     },
     "execution_count": 8,
     "metadata": {},
     "output_type": "execute_result"
    }
   ],
   "source": [
    "label"
   ]
  },
  {
   "cell_type": "code",
   "execution_count": null,
   "id": "2da27e83",
   "metadata": {},
   "outputs": [],
   "source": []
  }
 ],
 "metadata": {
  "kernelspec": {
   "display_name": "Python [conda env:lecturecv2]",
   "language": "python",
   "name": "conda-env-lecturecv2-py"
  },
  "language_info": {
   "codemirror_mode": {
    "name": "ipython",
    "version": 3
   },
   "file_extension": ".py",
   "mimetype": "text/x-python",
   "name": "python",
   "nbconvert_exporter": "python",
   "pygments_lexer": "ipython3",
   "version": "3.8.8"
  }
 },
 "nbformat": 4,
 "nbformat_minor": 5
}
